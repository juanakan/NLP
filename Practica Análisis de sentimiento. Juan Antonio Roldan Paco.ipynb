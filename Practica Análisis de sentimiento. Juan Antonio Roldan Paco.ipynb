{
 "cells": [
  {
   "cell_type": "markdown",
   "metadata": {},
   "source": [
    "# Practica Análisis de sentimiento"
   ]
  },
  {
   "cell_type": "markdown",
   "metadata": {},
   "source": [
    "### Importamos num2words"
   ]
  },
  {
   "cell_type": "code",
   "execution_count": 637,
   "metadata": {},
   "outputs": [
    {
     "name": "stdout",
     "output_type": "stream",
     "text": [
      "Requirement already satisfied: num2words in c:\\users\\juanc\\anaconda3\\lib\\site-packages (0.5.10)\n",
      "Requirement already satisfied: docopt>=0.6.2 in c:\\users\\juanc\\anaconda3\\lib\\site-packages (from num2words) (0.6.2)\n"
     ]
    }
   ],
   "source": [
    "!pip install num2words"
   ]
  },
  {
   "cell_type": "markdown",
   "metadata": {},
   "source": [
    "### Librerías necesarias"
   ]
  },
  {
   "cell_type": "code",
   "execution_count": 638,
   "metadata": {},
   "outputs": [],
   "source": [
    "import random\n",
    "import numpy as np\n",
    "import pandas as pd\n",
    "import gensim\n",
    "import unicodedata\n",
    "import string\n",
    "from num2words import num2words\n",
    "from gensim.corpora import Dictionary\n",
    "from gensim.models import LdaModel, CoherenceModel\n",
    "from collections import Counter\n",
    "from sklearn.utils import shuffle\n",
    "from sklearn.model_selection import train_test_split\n",
    "from sklearn.pipeline import Pipeline\n",
    "from sklearn.feature_extraction.text import CountVectorizer, TfidfVectorizer\n",
    "from sklearn.feature_selection import chi2\n",
    "from sklearn.linear_model import LogisticRegression\n",
    "from sklearn.metrics import accuracy_score, confusion_matrix, classification_report, roc_curve\n",
    "\n",
    "import matplotlib.pyplot as plt"
   ]
  },
  {
   "cell_type": "markdown",
   "metadata": {},
   "source": [
    "### Carga de datos"
   ]
  },
  {
   "cell_type": "code",
   "execution_count": 639,
   "metadata": {},
   "outputs": [],
   "source": [
    "df1 = pd.read_json('../../archivos/Automotive_5.json',lines=True)\n",
    "df2 = pd.read_json('../../archivos/Video_Games_5.json',lines=True)\n",
    "df3 = pd.read_json('../../archivos/Baby_5.json',lines=True)\n",
    "df4 = pd.read_json('../../archivos/Home_and_Kitchen_5.json',lines=True)\n",
    "df5 = pd.read_json('../../archivos/Sports_and_Outdoors_5.json',lines=True)"
   ]
  },
  {
   "cell_type": "code",
   "execution_count": 640,
   "metadata": {},
   "outputs": [
    {
     "name": "stdout",
     "output_type": "stream",
     "text": [
      "el df1 tiene (20000, 9)\n",
      "el df2 tiene (20000, 9)\n",
      "el df3 tiene (20000, 9)\n",
      "el df4 tiene (20000, 9)\n",
      "el df5 tiene (20000, 9)\n"
     ]
    }
   ],
   "source": [
    "df1=df1[:20000]\n",
    "print('el df1 tiene',df1.shape)\n",
    "df2=df2[:20000]\n",
    "print('el df2 tiene',df2.shape)\n",
    "df3=df3[:20000]\n",
    "print('el df3 tiene',df3.shape)\n",
    "df4=df4[:20000]\n",
    "print('el df4 tiene',df4.shape)\n",
    "df5=df5[:20000]\n",
    "print('el df5 tiene',df5.shape)"
   ]
  },
  {
   "cell_type": "code",
   "execution_count": 641,
   "metadata": {
    "scrolled": true
   },
   "outputs": [],
   "source": [
    "df=pd.concat([df1, df2, df3, df4,df5], axis=0)\n",
    "df = shuffle(df)"
   ]
  },
  {
   "cell_type": "code",
   "execution_count": 642,
   "metadata": {},
   "outputs": [
    {
     "data": {
      "text/plain": [
       "(100000, 9)"
      ]
     },
     "execution_count": 642,
     "metadata": {},
     "output_type": "execute_result"
    }
   ],
   "source": [
    "df.shape"
   ]
  },
  {
   "cell_type": "code",
   "execution_count": 643,
   "metadata": {},
   "outputs": [
    {
     "data": {
      "text/html": [
       "<div>\n",
       "<style scoped>\n",
       "    .dataframe tbody tr th:only-of-type {\n",
       "        vertical-align: middle;\n",
       "    }\n",
       "\n",
       "    .dataframe tbody tr th {\n",
       "        vertical-align: top;\n",
       "    }\n",
       "\n",
       "    .dataframe thead th {\n",
       "        text-align: right;\n",
       "    }\n",
       "</style>\n",
       "<table border=\"1\" class=\"dataframe\">\n",
       "  <thead>\n",
       "    <tr style=\"text-align: right;\">\n",
       "      <th></th>\n",
       "      <th>reviewerID</th>\n",
       "      <th>asin</th>\n",
       "      <th>reviewerName</th>\n",
       "      <th>helpful</th>\n",
       "      <th>reviewText</th>\n",
       "      <th>overall</th>\n",
       "      <th>summary</th>\n",
       "      <th>unixReviewTime</th>\n",
       "      <th>reviewTime</th>\n",
       "    </tr>\n",
       "  </thead>\n",
       "  <tbody>\n",
       "    <tr>\n",
       "      <th>15846</th>\n",
       "      <td>A2275FQ5V1S5YZ</td>\n",
       "      <td>B0007IS74G</td>\n",
       "      <td>Eric L</td>\n",
       "      <td>[0, 0]</td>\n",
       "      <td>Super easy to put together. With a little bit ...</td>\n",
       "      <td>4</td>\n",
       "      <td>Easy to assemble</td>\n",
       "      <td>1362009600</td>\n",
       "      <td>02 28, 2013</td>\n",
       "    </tr>\n",
       "    <tr>\n",
       "      <th>2430</th>\n",
       "      <td>A38353GFTVATJR</td>\n",
       "      <td>B0006N5RYK</td>\n",
       "      <td>BG</td>\n",
       "      <td>[0, 0]</td>\n",
       "      <td>Nice tight fit on my camper van.  Since I have...</td>\n",
       "      <td>5</td>\n",
       "      <td>Awesome!</td>\n",
       "      <td>1402012800</td>\n",
       "      <td>06 6, 2014</td>\n",
       "    </tr>\n",
       "    <tr>\n",
       "      <th>9097</th>\n",
       "      <td>A1Z4GKIZ8IRN8G</td>\n",
       "      <td>B00004RGAW</td>\n",
       "      <td>NaN</td>\n",
       "      <td>[0, 0]</td>\n",
       "      <td>The fryer is well built with several improveme...</td>\n",
       "      <td>5</td>\n",
       "      <td>DeLonghi D895UX cool touch electric fryer</td>\n",
       "      <td>1211068800</td>\n",
       "      <td>05 18, 2008</td>\n",
       "    </tr>\n",
       "    <tr>\n",
       "      <th>1595</th>\n",
       "      <td>A3QDPQBJAJC6C</td>\n",
       "      <td>B0002UQAM0</td>\n",
       "      <td>Jaco</td>\n",
       "      <td>[0, 2]</td>\n",
       "      <td>Not really impressed with this product. The Me...</td>\n",
       "      <td>2</td>\n",
       "      <td>Bleh, over rated</td>\n",
       "      <td>1390780800</td>\n",
       "      <td>01 27, 2014</td>\n",
       "    </tr>\n",
       "    <tr>\n",
       "      <th>11392</th>\n",
       "      <td>AFZKJP8I0PO3X</td>\n",
       "      <td>B0002N3OMG</td>\n",
       "      <td>wilepi \"lisa\"</td>\n",
       "      <td>[0, 0]</td>\n",
       "      <td>While they bill this swaddling wrap for sleepi...</td>\n",
       "      <td>5</td>\n",
       "      <td>not just for sleeping!!</td>\n",
       "      <td>1136419200</td>\n",
       "      <td>01 5, 2006</td>\n",
       "    </tr>\n",
       "  </tbody>\n",
       "</table>\n",
       "</div>"
      ],
      "text/plain": [
       "           reviewerID        asin   reviewerName helpful  \\\n",
       "15846  A2275FQ5V1S5YZ  B0007IS74G         Eric L  [0, 0]   \n",
       "2430   A38353GFTVATJR  B0006N5RYK             BG  [0, 0]   \n",
       "9097   A1Z4GKIZ8IRN8G  B00004RGAW            NaN  [0, 0]   \n",
       "1595    A3QDPQBJAJC6C  B0002UQAM0           Jaco  [0, 2]   \n",
       "11392   AFZKJP8I0PO3X  B0002N3OMG  wilepi \"lisa\"  [0, 0]   \n",
       "\n",
       "                                              reviewText  overall  \\\n",
       "15846  Super easy to put together. With a little bit ...        4   \n",
       "2430   Nice tight fit on my camper van.  Since I have...        5   \n",
       "9097   The fryer is well built with several improveme...        5   \n",
       "1595   Not really impressed with this product. The Me...        2   \n",
       "11392  While they bill this swaddling wrap for sleepi...        5   \n",
       "\n",
       "                                         summary  unixReviewTime   reviewTime  \n",
       "15846                           Easy to assemble      1362009600  02 28, 2013  \n",
       "2430                                    Awesome!      1402012800   06 6, 2014  \n",
       "9097   DeLonghi D895UX cool touch electric fryer      1211068800  05 18, 2008  \n",
       "1595                            Bleh, over rated      1390780800  01 27, 2014  \n",
       "11392                    not just for sleeping!!      1136419200   01 5, 2006  "
      ]
     },
     "execution_count": 643,
     "metadata": {},
     "output_type": "execute_result"
    }
   ],
   "source": [
    "df.head()"
   ]
  },
  {
   "cell_type": "markdown",
   "metadata": {},
   "source": [
    "# Probamos el modelo sin los review de 3"
   ]
  },
  {
   "cell_type": "code",
   "execution_count": 644,
   "metadata": {},
   "outputs": [],
   "source": [
    "df = df.drop(df[df['overall']==3].index)"
   ]
  },
  {
   "cell_type": "code",
   "execution_count": 645,
   "metadata": {},
   "outputs": [],
   "source": [
    "def label_sentiment(row):\n",
    "    if int(row['overall']) < 3:\n",
    "        return 'negativo'\n",
    "    else:\n",
    "        return 'positivo'"
   ]
  },
  {
   "cell_type": "code",
   "execution_count": 646,
   "metadata": {},
   "outputs": [
    {
     "data": {
      "text/plain": [
       "5    44085\n",
       "4    14170\n",
       "2     3136\n",
       "1     2954\n",
       "Name: overall, dtype: int64"
      ]
     },
     "execution_count": 646,
     "metadata": {},
     "output_type": "execute_result"
    }
   ],
   "source": [
    "df.overall.value_counts()"
   ]
  },
  {
   "cell_type": "code",
   "execution_count": 647,
   "metadata": {
    "scrolled": true
   },
   "outputs": [],
   "source": [
    "df['sentiment_label'] = df.apply(lambda row: label_sentiment(row), axis=1)\n",
    "df.drop(['reviewerID', 'asin', 'reviewerName', 'helpful', 'summary', 'unixReviewTime', 'reviewTime'], axis=1, inplace=True)"
   ]
  },
  {
   "cell_type": "code",
   "execution_count": 648,
   "metadata": {},
   "outputs": [
    {
     "data": {
      "text/html": [
       "<div>\n",
       "<style scoped>\n",
       "    .dataframe tbody tr th:only-of-type {\n",
       "        vertical-align: middle;\n",
       "    }\n",
       "\n",
       "    .dataframe tbody tr th {\n",
       "        vertical-align: top;\n",
       "    }\n",
       "\n",
       "    .dataframe thead th {\n",
       "        text-align: right;\n",
       "    }\n",
       "</style>\n",
       "<table border=\"1\" class=\"dataframe\">\n",
       "  <thead>\n",
       "    <tr style=\"text-align: right;\">\n",
       "      <th></th>\n",
       "      <th>reviewText</th>\n",
       "      <th>overall</th>\n",
       "      <th>sentiment_label</th>\n",
       "    </tr>\n",
       "  </thead>\n",
       "  <tbody>\n",
       "    <tr>\n",
       "      <th>2430</th>\n",
       "      <td>Nice tight fit on my camper van.  Since I have...</td>\n",
       "      <td>5</td>\n",
       "      <td>positivo</td>\n",
       "    </tr>\n",
       "    <tr>\n",
       "      <th>9097</th>\n",
       "      <td>The fryer is well built with several improveme...</td>\n",
       "      <td>5</td>\n",
       "      <td>positivo</td>\n",
       "    </tr>\n",
       "    <tr>\n",
       "      <th>1595</th>\n",
       "      <td>Not really impressed with this product. The Me...</td>\n",
       "      <td>2</td>\n",
       "      <td>negativo</td>\n",
       "    </tr>\n",
       "    <tr>\n",
       "      <th>11392</th>\n",
       "      <td>While they bill this swaddling wrap for sleepi...</td>\n",
       "      <td>5</td>\n",
       "      <td>positivo</td>\n",
       "    </tr>\n",
       "    <tr>\n",
       "      <th>14199</th>\n",
       "      <td>Final Fantasy IX is my most favorite in the se...</td>\n",
       "      <td>5</td>\n",
       "      <td>positivo</td>\n",
       "    </tr>\n",
       "  </tbody>\n",
       "</table>\n",
       "</div>"
      ],
      "text/plain": [
       "                                              reviewText  overall  \\\n",
       "2430   Nice tight fit on my camper van.  Since I have...        5   \n",
       "9097   The fryer is well built with several improveme...        5   \n",
       "1595   Not really impressed with this product. The Me...        2   \n",
       "11392  While they bill this swaddling wrap for sleepi...        5   \n",
       "14199  Final Fantasy IX is my most favorite in the se...        5   \n",
       "\n",
       "      sentiment_label  \n",
       "2430         positivo  \n",
       "9097         positivo  \n",
       "1595         negativo  \n",
       "11392        positivo  \n",
       "14199        positivo  "
      ]
     },
     "execution_count": 648,
     "metadata": {},
     "output_type": "execute_result"
    }
   ],
   "source": [
    "df.head()"
   ]
  },
  {
   "cell_type": "markdown",
   "metadata": {},
   "source": [
    "### Pipeline"
   ]
  },
  {
   "cell_type": "code",
   "execution_count": 649,
   "metadata": {},
   "outputs": [],
   "source": [
    "def text_normalizer(text, lemmatize=False, sw_list=None):\n",
    "    \n",
    "    processed_text = []\n",
    "    \n",
    "    if sw_list is None:\n",
    "        sw_list = []\n",
    "    \n",
    "    if lemmatize:\n",
    "        lemmas_dict = get_lemmas_dict()\n",
    "    \n",
    "    # Convierte el texto a minúsuculas\n",
    "    text = text.lower()\n",
    "    \n",
    "    # Eliminar caracteres \"extraños\"\n",
    "    text = unicodedata.normalize('NFKD', text).encode('ascii', 'ignore').decode('utf-8', 'ignore')\n",
    "    \n",
    "    # Tabla para eliminar signos de puntuación\n",
    "    table = str.maketrans('', '', string.punctuation)\n",
    "    \n",
    "    # Segmentar texto en frases\n",
    "    sentences = text.split('.')\n",
    "    \n",
    "    # Para cada frase\n",
    "    for sentence in sentences:\n",
    "        words = sentence.split(' ')\n",
    "        # Para cada palabra\n",
    "        for word in words:\n",
    "            if word not in string.punctuation and word not in sw_list:  # Si se pasa, elimina stop words\n",
    "                word = word.translate(table)\n",
    "                if lemmatize:\n",
    "                    word = lemmas_dict.get(word, word)\n",
    "                if word.isdigit():\n",
    "                    word = num2words(word, lang='en')\n",
    "            processed_text.append(word)\n",
    "    \n",
    "    return ' '.join(processed_text)\n",
    "    "
   ]
  },
  {
   "cell_type": "code",
   "execution_count": 650,
   "metadata": {},
   "outputs": [],
   "source": [
    "for text in df['reviewText']:\n",
    "    text_normalizer(text)"
   ]
  },
  {
   "cell_type": "markdown",
   "metadata": {},
   "source": [
    "### Separamos en conjunto de train y test"
   ]
  },
  {
   "cell_type": "code",
   "execution_count": 651,
   "metadata": {},
   "outputs": [],
   "source": [
    "X_train, X_test, y_train, y_test = train_test_split(\n",
    "    df['reviewText'],\n",
    "    df['sentiment_label'],\n",
    "    train_size=0.80,\n",
    "    test_size=0.20,\n",
    "    shuffle=True\n",
    ")"
   ]
  },
  {
   "cell_type": "markdown",
   "metadata": {},
   "source": [
    "### Extracción de features"
   ]
  },
  {
   "cell_type": "code",
   "execution_count": 652,
   "metadata": {
    "scrolled": true
   },
   "outputs": [
    {
     "data": {
      "text/plain": [
       "TfidfVectorizer(analyzer='word', binary=False, decode_error='strict',\n",
       "                dtype=<class 'numpy.float64'>, encoding='utf-8',\n",
       "                input='content', lowercase=True, max_df=0.95, max_features=2500,\n",
       "                min_df=5, ngram_range=(1, 2), norm='l2', preprocessor=None,\n",
       "                smooth_idf=True, stop_words=None, strip_accents='ascii',\n",
       "                sublinear_tf=False, token_pattern='(?u)\\\\b\\\\w\\\\w+\\\\b',\n",
       "                tokenizer=None, use_idf=True, vocabulary=None)"
      ]
     },
     "execution_count": 652,
     "metadata": {},
     "output_type": "execute_result"
    }
   ],
   "source": [
    "cv = TfidfVectorizer(\n",
    "    max_df=0.95,\n",
    "    min_df=5,\n",
    "    max_features=2500,\n",
    "    strip_accents='ascii',\n",
    "    #ngram_range=(1, 1)\n",
    "    ngram_range=(1, 2) # con este ngram es con el que mejor resultado he obtenido en este modelo\n",
    "    #ngram_range=(2, 3)\n",
    ")\n",
    "cv.fit(X_train)"
   ]
  },
  {
   "cell_type": "markdown",
   "metadata": {},
   "source": [
    "### TF-IDF scores del training set y test set"
   ]
  },
  {
   "cell_type": "code",
   "execution_count": 653,
   "metadata": {},
   "outputs": [],
   "source": [
    "X_train_ = cv.transform(X_train)\n",
    "X_test_ = cv.transform(X_test)"
   ]
  },
  {
   "cell_type": "markdown",
   "metadata": {},
   "source": [
    "### $\\chi²$ scores"
   ]
  },
  {
   "cell_type": "code",
   "execution_count": 654,
   "metadata": {},
   "outputs": [
    {
     "data": {
      "image/png": "[encoded data removed]",
      "text/plain": [
       "<Figure size 864x576 with 1 Axes>"
      ]
     },
     "metadata": {
      "needs_background": "light"
     },
     "output_type": "display_data"
    }
   ],
   "source": [
    "# Compute the chi-squared score for each word in the training set and show the values\n",
    "i = 20\n",
    "\n",
    "chi2score = chi2(X_train_, y_train)[0]\n",
    "scores = list(zip(cv.get_feature_names(), chi2score))\n",
    "sorted_scores = sorted(scores, key=lambda x:x[1])\n",
    "topchi2 = list(zip(*sorted_scores[-i:]))\n",
    "x = range(len(topchi2[1]))\n",
    "labels = topchi2[0]\n",
    "\n",
    "plt.figure(figsize=(12, 8))\n",
    "plt.barh(x,topchi2[1], align='center', alpha=0.5)\n",
    "plt.plot(topchi2[1], x, '-o', markersize=5, alpha=0.8)\n",
    "plt.yticks(x, labels, fontsize=12)\n",
    "plt.xlabel('$\\chi^2$', fontsize=26)\n",
    "plt.ylabel('word', fontsize=16)\n",
    "plt.title('Top {} $\\chi^2$ score for each word in the training set'.format(i), fontsize=20)\n",
    "plt.grid()\n",
    "plt.tight_layout()\n",
    "plt.show();"
   ]
  },
  {
   "cell_type": "markdown",
   "metadata": {},
   "source": [
    "### Entrenamiento"
   ]
  },
  {
   "cell_type": "code",
   "execution_count": 655,
   "metadata": {},
   "outputs": [
    {
     "name": "stdout",
     "output_type": "stream",
     "text": [
      "Accuracy for C=0.01: 0.9075297225891678\n",
      "Accuracy for C=0.05: 0.9075297225891678\n",
      "Accuracy for C=0.25: 0.9189525215634471\n",
      "Accuracy for C=0.5: 0.9278887248426451\n",
      "Accuracy for C=1: 0.9342606263112907\n",
      "Accuracy for C=2: 0.9370580464682571\n",
      "Accuracy for C=5: 0.9381459320848551\n",
      "Accuracy for C=10: 0.9374465770456135\n",
      "Accuracy for C=100: 0.9329396223482788\n"
     ]
    }
   ],
   "source": [
    "c_params = [0.01, 0.05, 0.25, 0.5, 1, 2, 5, 10, 100]\n",
    "\n",
    "train_acc = list()\n",
    "test_acc = list()\n",
    "for c in c_params:\n",
    "    lr = LogisticRegression(C=c, solver='lbfgs', max_iter=500)\n",
    "    lr.fit(X_train_, y_train)\n",
    "    \n",
    "    train_predict = lr.predict(X_train_)\n",
    "    test_predict = lr.predict(X_test_)\n",
    "    \n",
    "    print (\"Accuracy for C={}: {}\".format(c, accuracy_score(y_test, test_predict)))\n",
    "    \n",
    "    train_acc.append(accuracy_score(y_train, train_predict))\n",
    "    test_acc.append(accuracy_score(y_test, test_predict))"
   ]
  },
  {
   "cell_type": "markdown",
   "metadata": {},
   "source": [
    "### Algunas métricas"
   ]
  },
  {
   "cell_type": "code",
   "execution_count": 656,
   "metadata": {},
   "outputs": [
    {
     "name": "stdout",
     "output_type": "stream",
     "text": [
      "Confussion matrix:\n",
      "[[  646   544]\n",
      " [  319 11360]]\n",
      "\n",
      "Classification report:\n",
      "              precision    recall  f1-score   support\n",
      "\n",
      "    negativo       0.67      0.54      0.60      1190\n",
      "    positivo       0.95      0.97      0.96     11679\n",
      "\n",
      "    accuracy                           0.93     12869\n",
      "   macro avg       0.81      0.76      0.78     12869\n",
      "weighted avg       0.93      0.93      0.93     12869\n",
      "\n",
      "Accuracy score:0.9329396223482788\n"
     ]
    }
   ],
   "source": [
    "print('Confussion matrix:\\n{}'.format(confusion_matrix(y_test, test_predict)))\n",
    "print('\\nClassification report:\\n{}'.format(classification_report(y_test, test_predict)))\n",
    "print('Accuracy score:{}'.format(accuracy_score(y_test, test_predict)))"
   ]
  },
  {
   "cell_type": "code",
   "execution_count": 657,
   "metadata": {},
   "outputs": [
    {
     "data": {
      "image/png": "[encoded data removed]",
      "text/plain": [
       "<Figure size 864x576 with 1 Axes>"
      ]
     },
     "metadata": {
      "needs_background": "light"
     },
     "output_type": "display_data"
    }
   ],
   "source": [
    "plt.figure(figsize=(12, 8))\n",
    "plt.plot(train_acc, label='train')\n",
    "plt.plot(test_acc, label='test')\n",
    "plt.axvline(np.argmax(test_acc), c='g', ls='--', alpha=0.8)\n",
    "plt.title('Accuracy evolution for different C values')\n",
    "plt.xlabel('C')\n",
    "plt.ylabel('Accuracy')\n",
    "plt.legend()\n",
    "plt.grid()\n",
    "plt.xticks(list(range(len(c_params))), c_params)\n",
    "plt.tight_layout()\n",
    "plt.show()"
   ]
  },
  {
   "cell_type": "markdown",
   "metadata": {},
   "source": [
    "### Predict"
   ]
  },
  {
   "cell_type": "code",
   "execution_count": 658,
   "metadata": {},
   "outputs": [],
   "source": [
    "def predict_review_sentiment(review_index, model):\n",
    "    print('Actual sentiment: {}'.format(df.iloc[review_index]['sentiment_label']))\n",
    "    r = df.iloc[review_index]['reviewText']\n",
    "    print('Prediction: {}'.format(lr.predict(cv.transform([r]))))"
   ]
  },
  {
   "cell_type": "code",
   "execution_count": 659,
   "metadata": {},
   "outputs": [
    {
     "name": "stdout",
     "output_type": "stream",
     "text": [
      "\n",
      "Review no. 19915\n",
      "Actual sentiment: positivo\n",
      "Prediction: ['positivo']\n",
      "\n",
      "Review no. 63172\n",
      "Actual sentiment: positivo\n",
      "Prediction: ['positivo']\n",
      "\n",
      "Review no. 13494\n",
      "Actual sentiment: positivo\n",
      "Prediction: ['positivo']\n",
      "\n",
      "Review no. 52968\n",
      "Actual sentiment: negativo\n",
      "Prediction: ['positivo']\n",
      "\n",
      "Review no. 25505\n",
      "Actual sentiment: positivo\n",
      "Prediction: ['positivo']\n",
      "\n",
      "Review no. 2812\n",
      "Actual sentiment: positivo\n",
      "Prediction: ['positivo']\n",
      "\n",
      "Review no. 1910\n",
      "Actual sentiment: positivo\n",
      "Prediction: ['positivo']\n",
      "\n",
      "Review no. 61172\n",
      "Actual sentiment: positivo\n",
      "Prediction: ['positivo']\n",
      "\n",
      "Review no. 13806\n",
      "Actual sentiment: positivo\n",
      "Prediction: ['positivo']\n",
      "\n",
      "Review no. 63969\n",
      "Actual sentiment: positivo\n",
      "Prediction: ['positivo']\n"
     ]
    }
   ],
   "source": [
    "for i in random.sample(range(0, len(df)), 10):\n",
    "    print('\\nReview no. {}'.format(i))\n",
    "    predict_review_sentiment(i, lr)"
   ]
  },
  {
   "cell_type": "markdown",
   "metadata": {},
   "source": [
    "# Probamos con todos los review, los de 3 incluidos"
   ]
  },
  {
   "cell_type": "code",
   "execution_count": 660,
   "metadata": {},
   "outputs": [],
   "source": [
    "df=pd.concat([df1, df2, df3, df4, df5], axis=0)\n",
    "df = shuffle(df)"
   ]
  },
  {
   "cell_type": "code",
   "execution_count": 661,
   "metadata": {},
   "outputs": [
    {
     "data": {
      "text/plain": [
       "(100000, 9)"
      ]
     },
     "execution_count": 661,
     "metadata": {},
     "output_type": "execute_result"
    }
   ],
   "source": [
    "df.shape"
   ]
  },
  {
   "cell_type": "code",
   "execution_count": 662,
   "metadata": {},
   "outputs": [
    {
     "data": {
      "text/html": [
       "<div>\n",
       "<style scoped>\n",
       "    .dataframe tbody tr th:only-of-type {\n",
       "        vertical-align: middle;\n",
       "    }\n",
       "\n",
       "    .dataframe tbody tr th {\n",
       "        vertical-align: top;\n",
       "    }\n",
       "\n",
       "    .dataframe thead th {\n",
       "        text-align: right;\n",
       "    }\n",
       "</style>\n",
       "<table border=\"1\" class=\"dataframe\">\n",
       "  <thead>\n",
       "    <tr style=\"text-align: right;\">\n",
       "      <th></th>\n",
       "      <th>reviewerID</th>\n",
       "      <th>asin</th>\n",
       "      <th>reviewerName</th>\n",
       "      <th>helpful</th>\n",
       "      <th>reviewText</th>\n",
       "      <th>overall</th>\n",
       "      <th>summary</th>\n",
       "      <th>unixReviewTime</th>\n",
       "      <th>reviewTime</th>\n",
       "    </tr>\n",
       "  </thead>\n",
       "  <tbody>\n",
       "    <tr>\n",
       "      <th>15786</th>\n",
       "      <td>A38ITUI9003X0U</td>\n",
       "      <td>B00004SPZV</td>\n",
       "      <td>papagreg</td>\n",
       "      <td>[5, 5]</td>\n",
       "      <td>Received as a gift - hundreds of uses since sp...</td>\n",
       "      <td>4</td>\n",
       "      <td>Used hundreds of times</td>\n",
       "      <td>1151452800</td>\n",
       "      <td>06 28, 2006</td>\n",
       "    </tr>\n",
       "    <tr>\n",
       "      <th>6843</th>\n",
       "      <td>A3BCPNIMJ7VKP1</td>\n",
       "      <td>B000F285EG</td>\n",
       "      <td>Toast</td>\n",
       "      <td>[3, 4]</td>\n",
       "      <td>Although it should be included for free with t...</td>\n",
       "      <td>4</td>\n",
       "      <td>Should be included</td>\n",
       "      <td>1300147200</td>\n",
       "      <td>03 15, 2011</td>\n",
       "    </tr>\n",
       "    <tr>\n",
       "      <th>9600</th>\n",
       "      <td>A1NOWEOLKMRRXM</td>\n",
       "      <td>B00004S1BC</td>\n",
       "      <td>T. Reinhardt \"olivia lee\"</td>\n",
       "      <td>[13, 14]</td>\n",
       "      <td>I had alot of knives laying around in various ...</td>\n",
       "      <td>5</td>\n",
       "      <td>Great design...  great price...  great all around</td>\n",
       "      <td>1059609600</td>\n",
       "      <td>07 31, 2003</td>\n",
       "    </tr>\n",
       "    <tr>\n",
       "      <th>10479</th>\n",
       "      <td>A17H9F7Y937A7H</td>\n",
       "      <td>B0002INWLY</td>\n",
       "      <td>Ryan</td>\n",
       "      <td>[0, 0]</td>\n",
       "      <td>For the price this is the best money can buy. ...</td>\n",
       "      <td>5</td>\n",
       "      <td>Awesome product.</td>\n",
       "      <td>1357257600</td>\n",
       "      <td>01 4, 2013</td>\n",
       "    </tr>\n",
       "    <tr>\n",
       "      <th>13704</th>\n",
       "      <td>A3RKIHTQ8G2Z3A</td>\n",
       "      <td>B002OUMVWY</td>\n",
       "      <td>KatnAl30</td>\n",
       "      <td>[0, 0]</td>\n",
       "      <td>This kit came with everything we needed to emp...</td>\n",
       "      <td>5</td>\n",
       "      <td>Well Made &amp; Very Easy To Use</td>\n",
       "      <td>1398470400</td>\n",
       "      <td>04 26, 2014</td>\n",
       "    </tr>\n",
       "  </tbody>\n",
       "</table>\n",
       "</div>"
      ],
      "text/plain": [
       "           reviewerID        asin               reviewerName   helpful  \\\n",
       "15786  A38ITUI9003X0U  B00004SPZV                   papagreg    [5, 5]   \n",
       "6843   A3BCPNIMJ7VKP1  B000F285EG                      Toast    [3, 4]   \n",
       "9600   A1NOWEOLKMRRXM  B00004S1BC  T. Reinhardt \"olivia lee\"  [13, 14]   \n",
       "10479  A17H9F7Y937A7H  B0002INWLY                       Ryan    [0, 0]   \n",
       "13704  A3RKIHTQ8G2Z3A  B002OUMVWY                   KatnAl30    [0, 0]   \n",
       "\n",
       "                                              reviewText  overall  \\\n",
       "15786  Received as a gift - hundreds of uses since sp...        4   \n",
       "6843   Although it should be included for free with t...        4   \n",
       "9600   I had alot of knives laying around in various ...        5   \n",
       "10479  For the price this is the best money can buy. ...        5   \n",
       "13704  This kit came with everything we needed to emp...        5   \n",
       "\n",
       "                                                 summary  unixReviewTime  \\\n",
       "15786                             Used hundreds of times      1151452800   \n",
       "6843                                  Should be included      1300147200   \n",
       "9600   Great design...  great price...  great all around      1059609600   \n",
       "10479                                   Awesome product.      1357257600   \n",
       "13704                       Well Made & Very Easy To Use      1398470400   \n",
       "\n",
       "        reviewTime  \n",
       "15786  06 28, 2006  \n",
       "6843   03 15, 2011  \n",
       "9600   07 31, 2003  \n",
       "10479   01 4, 2013  \n",
       "13704  04 26, 2014  "
      ]
     },
     "execution_count": 662,
     "metadata": {},
     "output_type": "execute_result"
    }
   ],
   "source": [
    "df.head()"
   ]
  },
  {
   "cell_type": "code",
   "execution_count": 663,
   "metadata": {},
   "outputs": [],
   "source": [
    "def label_sentiment(row):\n",
    "    if int(row['overall']) < 3:\n",
    "        return 'negativo'\n",
    "    elif int(row['overall'] == 3):\n",
    "        return 'otro'\n",
    "    else:\n",
    "        return 'positivo'"
   ]
  },
  {
   "cell_type": "code",
   "execution_count": 664,
   "metadata": {},
   "outputs": [
    {
     "data": {
      "text/plain": [
       "5    62952\n",
       "4    20091\n",
       "3     8402\n",
       "2     4410\n",
       "1     4145\n",
       "Name: overall, dtype: int64"
      ]
     },
     "execution_count": 664,
     "metadata": {},
     "output_type": "execute_result"
    }
   ],
   "source": [
    "df.overall.value_counts()"
   ]
  },
  {
   "cell_type": "code",
   "execution_count": 665,
   "metadata": {},
   "outputs": [],
   "source": [
    "df['sentiment_label'] = df.apply(lambda row: label_sentiment(row), axis=1)\n",
    "df.drop(['reviewerID', 'asin', 'reviewerName', 'helpful', 'summary', 'unixReviewTime', 'reviewTime'], axis=1, inplace=True)"
   ]
  },
  {
   "cell_type": "code",
   "execution_count": 666,
   "metadata": {},
   "outputs": [
    {
     "data": {
      "text/html": [
       "<div>\n",
       "<style scoped>\n",
       "    .dataframe tbody tr th:only-of-type {\n",
       "        vertical-align: middle;\n",
       "    }\n",
       "\n",
       "    .dataframe tbody tr th {\n",
       "        vertical-align: top;\n",
       "    }\n",
       "\n",
       "    .dataframe thead th {\n",
       "        text-align: right;\n",
       "    }\n",
       "</style>\n",
       "<table border=\"1\" class=\"dataframe\">\n",
       "  <thead>\n",
       "    <tr style=\"text-align: right;\">\n",
       "      <th></th>\n",
       "      <th>reviewText</th>\n",
       "      <th>overall</th>\n",
       "      <th>sentiment_label</th>\n",
       "    </tr>\n",
       "  </thead>\n",
       "  <tbody>\n",
       "    <tr>\n",
       "      <th>15786</th>\n",
       "      <td>Received as a gift - hundreds of uses since sp...</td>\n",
       "      <td>4</td>\n",
       "      <td>positivo</td>\n",
       "    </tr>\n",
       "    <tr>\n",
       "      <th>6843</th>\n",
       "      <td>Although it should be included for free with t...</td>\n",
       "      <td>4</td>\n",
       "      <td>positivo</td>\n",
       "    </tr>\n",
       "    <tr>\n",
       "      <th>9600</th>\n",
       "      <td>I had alot of knives laying around in various ...</td>\n",
       "      <td>5</td>\n",
       "      <td>positivo</td>\n",
       "    </tr>\n",
       "    <tr>\n",
       "      <th>10479</th>\n",
       "      <td>For the price this is the best money can buy. ...</td>\n",
       "      <td>5</td>\n",
       "      <td>positivo</td>\n",
       "    </tr>\n",
       "    <tr>\n",
       "      <th>13704</th>\n",
       "      <td>This kit came with everything we needed to emp...</td>\n",
       "      <td>5</td>\n",
       "      <td>positivo</td>\n",
       "    </tr>\n",
       "  </tbody>\n",
       "</table>\n",
       "</div>"
      ],
      "text/plain": [
       "                                              reviewText  overall  \\\n",
       "15786  Received as a gift - hundreds of uses since sp...        4   \n",
       "6843   Although it should be included for free with t...        4   \n",
       "9600   I had alot of knives laying around in various ...        5   \n",
       "10479  For the price this is the best money can buy. ...        5   \n",
       "13704  This kit came with everything we needed to emp...        5   \n",
       "\n",
       "      sentiment_label  \n",
       "15786        positivo  \n",
       "6843         positivo  \n",
       "9600         positivo  \n",
       "10479        positivo  \n",
       "13704        positivo  "
      ]
     },
     "execution_count": 666,
     "metadata": {},
     "output_type": "execute_result"
    }
   ],
   "source": [
    "df.head()"
   ]
  },
  {
   "cell_type": "markdown",
   "metadata": {},
   "source": [
    "### Pipeline"
   ]
  },
  {
   "cell_type": "code",
   "execution_count": 667,
   "metadata": {},
   "outputs": [],
   "source": [
    "def text_normalizer(text, lemmatize=False, sw_list=None):\n",
    "    \n",
    "    processed_text = []\n",
    "    \n",
    "    if sw_list is None:\n",
    "        sw_list = []\n",
    "    \n",
    "    if lemmatize:\n",
    "        lemmas_dict = get_lemmas_dict()\n",
    "    \n",
    "    # Convierte el texto a minúsuculas\n",
    "    text = text.lower()\n",
    "    \n",
    "    # Eliminar caracteres \"extraños\"\n",
    "    text = unicodedata.normalize('NFKD', text).encode('ascii', 'ignore').decode('utf-8', 'ignore')\n",
    "    \n",
    "    # Tabla para eliminar signos de puntuación\n",
    "    table = str.maketrans('', '', string.punctuation)\n",
    "    \n",
    "    # Segmentar texto en frases\n",
    "    sentences = text.split('.')\n",
    "    \n",
    "    # Para cada frase\n",
    "    for sentence in sentences:\n",
    "        words = sentence.split(' ')\n",
    "        # Para cada palabra\n",
    "        for word in words:\n",
    "            if word not in string.punctuation and word not in sw_list:  # Si se pasa, elimina stop words\n",
    "                word = word.translate(table)\n",
    "                if lemmatize:\n",
    "                    word = lemmas_dict.get(word, word)\n",
    "                if word.isdigit():\n",
    "                    word = num2words(word, lang='en')\n",
    "            processed_text.append(word)\n",
    "    \n",
    "    return ' '.join(processed_text)"
   ]
  },
  {
   "cell_type": "code",
   "execution_count": 668,
   "metadata": {},
   "outputs": [],
   "source": [
    "for text in df['reviewText']:\n",
    "    text_normalizer(text)"
   ]
  },
  {
   "cell_type": "markdown",
   "metadata": {},
   "source": [
    "### Separamos en conjunto de train y test"
   ]
  },
  {
   "cell_type": "code",
   "execution_count": 669,
   "metadata": {},
   "outputs": [],
   "source": [
    "X_train, X_test, y_train, y_test = train_test_split(\n",
    "    df['reviewText'],\n",
    "    df['sentiment_label'],\n",
    "    train_size=0.80,\n",
    "    test_size=0.20,\n",
    "    shuffle=True\n",
    ")"
   ]
  },
  {
   "cell_type": "markdown",
   "metadata": {},
   "source": [
    "### Extaccion de features"
   ]
  },
  {
   "cell_type": "code",
   "execution_count": 670,
   "metadata": {},
   "outputs": [
    {
     "data": {
      "text/plain": [
       "TfidfVectorizer(analyzer='word', binary=False, decode_error='strict',\n",
       "                dtype=<class 'numpy.float64'>, encoding='utf-8',\n",
       "                input='content', lowercase=True, max_df=0.95, max_features=2500,\n",
       "                min_df=5, ngram_range=(1, 1), norm='l2', preprocessor=None,\n",
       "                smooth_idf=True, stop_words=None, strip_accents='ascii',\n",
       "                sublinear_tf=False, token_pattern='(?u)\\\\b\\\\w\\\\w+\\\\b',\n",
       "                tokenizer=None, use_idf=True, vocabulary=None)"
      ]
     },
     "execution_count": 670,
     "metadata": {},
     "output_type": "execute_result"
    }
   ],
   "source": [
    "cv = TfidfVectorizer(\n",
    "    max_df=0.95,\n",
    "    min_df=5,\n",
    "    max_features=2500,\n",
    "    strip_accents='ascii',\n",
    "    ngram_range=(1, 1) # con este ngram es con el que mejor resultado he obtenido en este modelo\n",
    "    #ngram_range=(1, 2)\n",
    "    #ngram_range=(2, 3)\n",
    ")\n",
    "cv.fit(X_train)"
   ]
  },
  {
   "cell_type": "markdown",
   "metadata": {},
   "source": [
    "### TF-IDF scores del training set y test set"
   ]
  },
  {
   "cell_type": "code",
   "execution_count": 671,
   "metadata": {},
   "outputs": [],
   "source": [
    "X_train_ = cv.transform(X_train)\n",
    "X_test_ = cv.transform(X_test)"
   ]
  },
  {
   "cell_type": "markdown",
   "metadata": {},
   "source": [
    "### $\\chi²$ scores"
   ]
  },
  {
   "cell_type": "code",
   "execution_count": 672,
   "metadata": {},
   "outputs": [
    {
     "data": {
      "image/png": "[encoded data removed]",
      "text/plain": [
       "<Figure size 864x576 with 1 Axes>"
      ]
     },
     "metadata": {
      "needs_background": "light"
     },
     "output_type": "display_data"
    }
   ],
   "source": [
    "# Compute the chi-squared score for each word in the training set and show the values\n",
    "i = 20\n",
    "\n",
    "chi2score = chi2(X_train_, y_train)[0]\n",
    "scores = list(zip(cv.get_feature_names(), chi2score))\n",
    "sorted_scores = sorted(scores, key=lambda x:x[1])\n",
    "topchi2 = list(zip(*sorted_scores[-i:]))\n",
    "x = range(len(topchi2[1]))\n",
    "labels = topchi2[0]\n",
    "\n",
    "plt.figure(figsize=(12, 8))\n",
    "plt.barh(x,topchi2[1], align='center', alpha=0.5)\n",
    "plt.plot(topchi2[1], x, '-o', markersize=5, alpha=0.8)\n",
    "plt.yticks(x, labels, fontsize=12)\n",
    "plt.xlabel('$\\chi^2$', fontsize=26)\n",
    "plt.ylabel('word', fontsize=16)\n",
    "plt.title('Top {} $\\chi^2$ score for each word in the training set'.format(i), fontsize=20)\n",
    "plt.grid()\n",
    "plt.tight_layout()\n",
    "plt.show();"
   ]
  },
  {
   "cell_type": "markdown",
   "metadata": {},
   "source": [
    "### Entrenamiento"
   ]
  },
  {
   "cell_type": "code",
   "execution_count": 673,
   "metadata": {},
   "outputs": [
    {
     "name": "stdout",
     "output_type": "stream",
     "text": [
      "Accuracy for C=0.01: 0.8293\n",
      "Accuracy for C=0.05: 0.8347\n",
      "Accuracy for C=0.25: 0.85345\n",
      "Accuracy for C=0.5: 0.8577\n",
      "Accuracy for C=1: 0.8589\n",
      "Accuracy for C=2: 0.85865\n",
      "Accuracy for C=5: 0.8573\n"
     ]
    }
   ],
   "source": [
    "c_params = [0.01, 0.05, 0.25, 0.5, 1, 2, 5]\n",
    "\n",
    "train_acc = list()\n",
    "test_acc = list()\n",
    "for c in c_params:\n",
    "    lr = LogisticRegression(C=c, solver='lbfgs', max_iter=500)\n",
    "    lr.fit(X_train_, y_train)\n",
    "    \n",
    "    train_predict = lr.predict(X_train_)\n",
    "    test_predict = lr.predict(X_test_)\n",
    "    \n",
    "    print (\"Accuracy for C={}: {}\".format(c, accuracy_score(y_test, test_predict)))\n",
    "    \n",
    "    train_acc.append(accuracy_score(y_train, train_predict))\n",
    "    test_acc.append(accuracy_score(y_test, test_predict))"
   ]
  },
  {
   "cell_type": "markdown",
   "metadata": {},
   "source": [
    "### Algunas métricas"
   ]
  },
  {
   "cell_type": "code",
   "execution_count": 674,
   "metadata": {},
   "outputs": [
    {
     "name": "stdout",
     "output_type": "stream",
     "text": [
      "Confussion matrix:\n",
      "[[  797   136   833]\n",
      " [  237   223  1188]\n",
      " [  248   212 16126]]\n",
      "\n",
      "Classification report:\n",
      "              precision    recall  f1-score   support\n",
      "\n",
      "    negativo       0.62      0.45      0.52      1766\n",
      "        otro       0.39      0.14      0.20      1648\n",
      "    positivo       0.89      0.97      0.93     16586\n",
      "\n",
      "    accuracy                           0.86     20000\n",
      "   macro avg       0.63      0.52      0.55     20000\n",
      "weighted avg       0.82      0.86      0.83     20000\n",
      "\n",
      "Accuracy score:0.8573\n"
     ]
    }
   ],
   "source": [
    "print('Confussion matrix:\\n{}'.format(confusion_matrix(y_test, test_predict)))\n",
    "print('\\nClassification report:\\n{}'.format(classification_report(y_test, test_predict)))\n",
    "print('Accuracy score:{}'.format(accuracy_score(y_test, test_predict)))"
   ]
  },
  {
   "cell_type": "code",
   "execution_count": 675,
   "metadata": {},
   "outputs": [
    {
     "data": {
      "image/png": "[encoded data removed]",
      "text/plain": [
       "<Figure size 864x576 with 1 Axes>"
      ]
     },
     "metadata": {
      "needs_background": "light"
     },
     "output_type": "display_data"
    }
   ],
   "source": [
    "plt.figure(figsize=(12, 8))\n",
    "plt.plot(train_acc, label='train')\n",
    "plt.plot(test_acc, label='test')\n",
    "plt.axvline(np.argmax(test_acc), c='g', ls='--', alpha=0.8)\n",
    "plt.title('Accuracy evolution for different C values')\n",
    "plt.xlabel('C')\n",
    "plt.ylabel('Accuracy')\n",
    "plt.legend()\n",
    "plt.grid()\n",
    "plt.xticks(list(range(len(c_params))), c_params)\n",
    "plt.tight_layout()\n",
    "plt.show()"
   ]
  },
  {
   "cell_type": "markdown",
   "metadata": {},
   "source": [
    "### Predict"
   ]
  },
  {
   "cell_type": "code",
   "execution_count": 676,
   "metadata": {},
   "outputs": [],
   "source": [
    "def predict_review_sentiment(review_index, model):\n",
    "    print('Actual sentiment: {}'.format(df.iloc[review_index]['sentiment_label']))\n",
    "    r = df.iloc[review_index]['reviewText']\n",
    "    print('Prediction: {}'.format(lr.predict(cv.transform([r]))))"
   ]
  },
  {
   "cell_type": "code",
   "execution_count": 677,
   "metadata": {},
   "outputs": [
    {
     "name": "stdout",
     "output_type": "stream",
     "text": [
      "\n",
      "Review no. 56754\n",
      "Actual sentiment: positivo\n",
      "Prediction: ['positivo']\n",
      "\n",
      "Review no. 56338\n",
      "Actual sentiment: positivo\n",
      "Prediction: ['positivo']\n",
      "\n",
      "Review no. 89528\n",
      "Actual sentiment: positivo\n",
      "Prediction: ['positivo']\n",
      "\n",
      "Review no. 69683\n",
      "Actual sentiment: otro\n",
      "Prediction: ['negativo']\n",
      "\n",
      "Review no. 29808\n",
      "Actual sentiment: positivo\n",
      "Prediction: ['positivo']\n",
      "\n",
      "Review no. 46648\n",
      "Actual sentiment: positivo\n",
      "Prediction: ['positivo']\n",
      "\n",
      "Review no. 16352\n",
      "Actual sentiment: positivo\n",
      "Prediction: ['positivo']\n",
      "\n",
      "Review no. 28169\n",
      "Actual sentiment: positivo\n",
      "Prediction: ['positivo']\n",
      "\n",
      "Review no. 86373\n",
      "Actual sentiment: positivo\n",
      "Prediction: ['positivo']\n",
      "\n",
      "Review no. 35754\n",
      "Actual sentiment: positivo\n",
      "Prediction: ['positivo']\n"
     ]
    }
   ],
   "source": [
    "for i in random.sample(range(0, len(df)), 10):\n",
    "    print('\\nReview no. {}'.format(i))\n",
    "    predict_review_sentiment(i, lr)"
   ]
  },
  {
   "cell_type": "markdown",
   "metadata": {},
   "source": [
    "# Probamos balanceando los datos\n",
    "# Quitamos los review de 3 ya que me dan peor resultado"
   ]
  },
  {
   "cell_type": "code",
   "execution_count": 701,
   "metadata": {},
   "outputs": [],
   "source": [
    "df1 = pd.read_json('../../archivos/Automotive_5.json',lines=True)\n",
    "df2 = pd.read_json('../../archivos/Video_Games_5.json',lines=True)\n",
    "df3 = pd.read_json('../../archivos/Baby_5.json',lines=True)\n",
    "df4 = pd.read_json('../../archivos/Home_and_Kitchen_5.json',lines=True)\n",
    "df5 = pd.read_json('../../archivos/Sports_and_Outdoors_5.json',lines=True)"
   ]
  },
  {
   "cell_type": "code",
   "execution_count": 702,
   "metadata": {},
   "outputs": [
    {
     "name": "stdout",
     "output_type": "stream",
     "text": [
      "el df1 tiene (20473, 9)\n",
      "el df2 tiene (231780, 9)\n",
      "el df3 tiene (160792, 9)\n",
      "el df4 tiene (551682, 9)\n",
      "el df5 tiene (296337, 9)\n"
     ]
    }
   ],
   "source": [
    "print('el df1 tiene',df1.shape)\n",
    "print('el df2 tiene',df2.shape)\n",
    "print('el df3 tiene',df3.shape)\n",
    "print('el df4 tiene',df4.shape)\n",
    "print('el df5 tiene',df5.shape)"
   ]
  },
  {
   "cell_type": "code",
   "execution_count": 703,
   "metadata": {},
   "outputs": [],
   "source": [
    "df=pd.concat([df1, df2, df3, df4, df5], axis=0)\n",
    "df = shuffle(df)"
   ]
  },
  {
   "cell_type": "code",
   "execution_count": 704,
   "metadata": {},
   "outputs": [
    {
     "data": {
      "text/plain": [
       "(1261064, 9)"
      ]
     },
     "execution_count": 704,
     "metadata": {},
     "output_type": "execute_result"
    }
   ],
   "source": [
    "df.shape"
   ]
  },
  {
   "cell_type": "code",
   "execution_count": 705,
   "metadata": {},
   "outputs": [
    {
     "data": {
      "text/plain": [
       "(117344, 9)"
      ]
     },
     "execution_count": 705,
     "metadata": {},
     "output_type": "execute_result"
    }
   ],
   "source": [
    "df_neg =df[df['overall']<3]\n",
    "df_neg.shape"
   ]
  },
  {
   "cell_type": "code",
   "execution_count": 706,
   "metadata": {},
   "outputs": [],
   "source": [
    "df_pos =df[df['overall']>3]\n",
    "df_pos = df_pos[:117344]"
   ]
  },
  {
   "cell_type": "code",
   "execution_count": 707,
   "metadata": {},
   "outputs": [
    {
     "name": "stdout",
     "output_type": "stream",
     "text": [
      "df_neg:  (117344, 9)\n",
      "df_pos:  (117344, 9)\n"
     ]
    }
   ],
   "source": [
    "print('df_neg: ',df_neg.shape)\n",
    "print('df_pos: ',df_pos.shape)"
   ]
  },
  {
   "cell_type": "code",
   "execution_count": 708,
   "metadata": {},
   "outputs": [
    {
     "data": {
      "text/plain": [
       "(234688, 9)"
      ]
     },
     "execution_count": 708,
     "metadata": {},
     "output_type": "execute_result"
    }
   ],
   "source": [
    "df=pd.concat([df_neg, df_pos], axis=0)\n",
    "df = shuffle(df)\n",
    "df.shape"
   ]
  },
  {
   "cell_type": "code",
   "execution_count": 709,
   "metadata": {},
   "outputs": [],
   "source": [
    "def label_sentiment(row):\n",
    "    if int(row['overall']) < 3:\n",
    "        return 'negativo'\n",
    "    else:\n",
    "        return 'positivo'"
   ]
  },
  {
   "cell_type": "code",
   "execution_count": 710,
   "metadata": {},
   "outputs": [
    {
     "data": {
      "text/plain": [
       "5    87428\n",
       "1    59365\n",
       "2    57979\n",
       "4    29916\n",
       "Name: overall, dtype: int64"
      ]
     },
     "execution_count": 710,
     "metadata": {},
     "output_type": "execute_result"
    }
   ],
   "source": [
    "df.overall.value_counts()"
   ]
  },
  {
   "cell_type": "code",
   "execution_count": 711,
   "metadata": {},
   "outputs": [],
   "source": [
    "df['sentiment_label'] = df.apply(lambda row: label_sentiment(row), axis=1)\n",
    "df.drop(['reviewerID', 'asin', 'reviewerName', 'helpful', 'summary', 'unixReviewTime', 'reviewTime'], axis=1, inplace=True)"
   ]
  },
  {
   "cell_type": "code",
   "execution_count": 712,
   "metadata": {},
   "outputs": [
    {
     "data": {
      "text/html": [
       "<div>\n",
       "<style scoped>\n",
       "    .dataframe tbody tr th:only-of-type {\n",
       "        vertical-align: middle;\n",
       "    }\n",
       "\n",
       "    .dataframe tbody tr th {\n",
       "        vertical-align: top;\n",
       "    }\n",
       "\n",
       "    .dataframe thead th {\n",
       "        text-align: right;\n",
       "    }\n",
       "</style>\n",
       "<table border=\"1\" class=\"dataframe\">\n",
       "  <thead>\n",
       "    <tr style=\"text-align: right;\">\n",
       "      <th></th>\n",
       "      <th>reviewText</th>\n",
       "      <th>overall</th>\n",
       "      <th>sentiment_label</th>\n",
       "    </tr>\n",
       "  </thead>\n",
       "  <tbody>\n",
       "    <tr>\n",
       "      <th>235461</th>\n",
       "      <td>The Schwinn Elliptical frames flex a lot at th...</td>\n",
       "      <td>1</td>\n",
       "      <td>negativo</td>\n",
       "    </tr>\n",
       "    <tr>\n",
       "      <th>139047</th>\n",
       "      <td>I really researched this item before buying it...</td>\n",
       "      <td>5</td>\n",
       "      <td>positivo</td>\n",
       "    </tr>\n",
       "    <tr>\n",
       "      <th>282094</th>\n",
       "      <td>2014 JUN 22:  OK Now it is clear.. There is a ...</td>\n",
       "      <td>1</td>\n",
       "      <td>negativo</td>\n",
       "    </tr>\n",
       "    <tr>\n",
       "      <th>93257</th>\n",
       "      <td>I love this \"game\".  It's a mixture of games t...</td>\n",
       "      <td>5</td>\n",
       "      <td>positivo</td>\n",
       "    </tr>\n",
       "    <tr>\n",
       "      <th>99255</th>\n",
       "      <td>I was so disappointed when we got this. It has...</td>\n",
       "      <td>1</td>\n",
       "      <td>negativo</td>\n",
       "    </tr>\n",
       "  </tbody>\n",
       "</table>\n",
       "</div>"
      ],
      "text/plain": [
       "                                               reviewText  overall  \\\n",
       "235461  The Schwinn Elliptical frames flex a lot at th...        1   \n",
       "139047  I really researched this item before buying it...        5   \n",
       "282094  2014 JUN 22:  OK Now it is clear.. There is a ...        1   \n",
       "93257   I love this \"game\".  It's a mixture of games t...        5   \n",
       "99255   I was so disappointed when we got this. It has...        1   \n",
       "\n",
       "       sentiment_label  \n",
       "235461        negativo  \n",
       "139047        positivo  \n",
       "282094        negativo  \n",
       "93257         positivo  \n",
       "99255         negativo  "
      ]
     },
     "execution_count": 712,
     "metadata": {},
     "output_type": "execute_result"
    }
   ],
   "source": [
    "df.head()"
   ]
  },
  {
   "cell_type": "markdown",
   "metadata": {},
   "source": [
    "### Pipeline"
   ]
  },
  {
   "cell_type": "code",
   "execution_count": 713,
   "metadata": {},
   "outputs": [],
   "source": [
    "def text_normalizer(text, lemmatize=False, sw_list=None):\n",
    "    \n",
    "    processed_text = []\n",
    "    \n",
    "    if sw_list is None:\n",
    "        sw_list = []\n",
    "    \n",
    "    if lemmatize:\n",
    "        lemmas_dict = get_lemmas_dict()\n",
    "    \n",
    "    # Convierte el texto a minúsuculas\n",
    "    text = text.lower()\n",
    "    \n",
    "    # Eliminar caracteres \"extraños\"\n",
    "    text = unicodedata.normalize('NFKD', text).encode('ascii', 'ignore').decode('utf-8', 'ignore')\n",
    "    \n",
    "    # Tabla para eliminar signos de puntuación\n",
    "    table = str.maketrans('', '', string.punctuation)\n",
    "    \n",
    "    # Segmentar texto en frases\n",
    "    sentences = text.split('.')\n",
    "    \n",
    "    # Para cada frase\n",
    "    for sentence in sentences:\n",
    "        words = sentence.split(' ')\n",
    "        # Para cada palabra\n",
    "        for word in words:\n",
    "            if word not in string.punctuation and word not in sw_list:  # Si se pasa, elimina stop words\n",
    "                word = word.translate(table)\n",
    "                if lemmatize:\n",
    "                    word = lemmas_dict.get(word, word)\n",
    "                if word.isdigit():\n",
    "                    word = num2words(word, lang='en')\n",
    "            processed_text.append(word)\n",
    "    \n",
    "    return ' '.join(processed_text)"
   ]
  },
  {
   "cell_type": "code",
   "execution_count": 714,
   "metadata": {},
   "outputs": [],
   "source": [
    "for text in df['reviewText']:\n",
    "    text_normalizer(text)"
   ]
  },
  {
   "cell_type": "markdown",
   "metadata": {},
   "source": [
    "### Separamos el conjunto de train y test"
   ]
  },
  {
   "cell_type": "code",
   "execution_count": 715,
   "metadata": {},
   "outputs": [],
   "source": [
    "X_train, X_test, y_train, y_test = train_test_split(\n",
    "    df['reviewText'],\n",
    "    df['sentiment_label'],\n",
    "    train_size=0.80,\n",
    "    test_size=0.20,\n",
    "    shuffle=True\n",
    ")"
   ]
  },
  {
   "cell_type": "markdown",
   "metadata": {},
   "source": [
    "### Extracción de features"
   ]
  },
  {
   "cell_type": "code",
   "execution_count": 716,
   "metadata": {},
   "outputs": [
    {
     "data": {
      "text/plain": [
       "TfidfVectorizer(analyzer='word', binary=False, decode_error='strict',\n",
       "                dtype=<class 'numpy.float64'>, encoding='utf-8',\n",
       "                input='content', lowercase=True, max_df=0.95, max_features=2500,\n",
       "                min_df=5, ngram_range=(1, 2), norm='l2', preprocessor=None,\n",
       "                smooth_idf=True, stop_words=None, strip_accents='ascii',\n",
       "                sublinear_tf=False, token_pattern='(?u)\\\\b\\\\w\\\\w+\\\\b',\n",
       "                tokenizer=None, use_idf=True, vocabulary=None)"
      ]
     },
     "execution_count": 716,
     "metadata": {},
     "output_type": "execute_result"
    }
   ],
   "source": [
    "cv = TfidfVectorizer(\n",
    "    max_df=0.95,\n",
    "    min_df=5,\n",
    "    max_features=2500,\n",
    "    strip_accents='ascii',\n",
    "    #ngram_range=(1, 1)\n",
    "    ngram_range=(1, 2) # con este ngram es con el que mejor resultado he obtenido en este modelo\n",
    "    #ngram_range=(2, 3)\n",
    ")\n",
    "cv.fit(X_train)"
   ]
  },
  {
   "cell_type": "markdown",
   "metadata": {},
   "source": [
    "### TF-IDF scores del training set y test set"
   ]
  },
  {
   "cell_type": "code",
   "execution_count": 717,
   "metadata": {},
   "outputs": [],
   "source": [
    "X_train_ = cv.transform(X_train)\n",
    "X_test_ = cv.transform(X_test)"
   ]
  },
  {
   "cell_type": "markdown",
   "metadata": {},
   "source": [
    "### $\\chi²$ scores"
   ]
  },
  {
   "cell_type": "code",
   "execution_count": 718,
   "metadata": {},
   "outputs": [
    {
     "data": {
      "image/png": "[encoded data removed]",
      "text/plain": [
       "<Figure size 864x576 with 1 Axes>"
      ]
     },
     "metadata": {
      "needs_background": "light"
     },
     "output_type": "display_data"
    }
   ],
   "source": [
    "# Compute the chi-squared score for each word in the training set and show the values\n",
    "i = 20\n",
    "\n",
    "chi2score = chi2(X_train_, y_train)[0]\n",
    "scores = list(zip(cv.get_feature_names(), chi2score))\n",
    "sorted_scores = sorted(scores, key=lambda x:x[1])\n",
    "topchi2 = list(zip(*sorted_scores[-i:]))\n",
    "x = range(len(topchi2[1]))\n",
    "labels = topchi2[0]\n",
    "\n",
    "plt.figure(figsize=(12, 8))\n",
    "plt.barh(x,topchi2[1], align='center', alpha=0.5)\n",
    "plt.plot(topchi2[1], x, '-o', markersize=5, alpha=0.8)\n",
    "plt.yticks(x, labels, fontsize=12)\n",
    "plt.xlabel('$\\chi^2$', fontsize=26)\n",
    "plt.ylabel('word', fontsize=16)\n",
    "plt.title('Top {} $\\chi^2$ score for each word in the training set'.format(i), fontsize=20)\n",
    "plt.grid()\n",
    "plt.tight_layout()\n",
    "plt.show();"
   ]
  },
  {
   "cell_type": "markdown",
   "metadata": {},
   "source": [
    "### Entrenamiento"
   ]
  },
  {
   "cell_type": "code",
   "execution_count": 719,
   "metadata": {},
   "outputs": [
    {
     "name": "stdout",
     "output_type": "stream",
     "text": [
      "Accuracy for C=0.01: 0.845839192125783\n",
      "Accuracy for C=0.05: 0.8706591674123312\n",
      "Accuracy for C=0.25: 0.8831650262047808\n",
      "Accuracy for C=0.5: 0.8857002854829775\n",
      "Accuracy for C=1: 0.8868507392730837\n",
      "Accuracy for C=2: 0.8876816225659381\n",
      "Accuracy for C=5: 0.8877668413652051\n",
      "Accuracy for C=10: 0.8871916144701522\n",
      "Accuracy for C=100: 0.8870637862712515\n",
      "Accuracy for C=1000: 0.8870637862712515\n"
     ]
    }
   ],
   "source": [
    "c_params = [0.01, 0.05, 0.25, 0.5, 1, 2, 5, 10, 100, 1000]\n",
    "\n",
    "train_acc = list()\n",
    "test_acc = list()\n",
    "for c in c_params:\n",
    "    lr = LogisticRegression(C=c, solver='lbfgs', max_iter=500)\n",
    "    lr.fit(X_train_, y_train)\n",
    "    \n",
    "    train_predict = lr.predict(X_train_)\n",
    "    test_predict = lr.predict(X_test_)\n",
    "    \n",
    "    print (\"Accuracy for C={}: {}\".format(c, accuracy_score(y_test, test_predict)))\n",
    "    \n",
    "    train_acc.append(accuracy_score(y_train, train_predict))\n",
    "    test_acc.append(accuracy_score(y_test, test_predict))"
   ]
  },
  {
   "cell_type": "markdown",
   "metadata": {},
   "source": [
    "### Algunas métricas"
   ]
  },
  {
   "cell_type": "code",
   "execution_count": 720,
   "metadata": {},
   "outputs": [
    {
     "name": "stdout",
     "output_type": "stream",
     "text": [
      "Confussion matrix:\n",
      "[[20839  2640]\n",
      " [ 2661 20798]]\n",
      "\n",
      "Classification report:\n",
      "              precision    recall  f1-score   support\n",
      "\n",
      "    negativo       0.89      0.89      0.89     23479\n",
      "    positivo       0.89      0.89      0.89     23459\n",
      "\n",
      "    accuracy                           0.89     46938\n",
      "   macro avg       0.89      0.89      0.89     46938\n",
      "weighted avg       0.89      0.89      0.89     46938\n",
      "\n",
      "Accuracy score:0.8870637862712515\n"
     ]
    }
   ],
   "source": [
    "print('Confussion matrix:\\n{}'.format(confusion_matrix(y_test, test_predict)))\n",
    "print('\\nClassification report:\\n{}'.format(classification_report(y_test, test_predict)))\n",
    "print('Accuracy score:{}'.format(accuracy_score(y_test, test_predict)))"
   ]
  },
  {
   "cell_type": "code",
   "execution_count": 721,
   "metadata": {},
   "outputs": [
    {
     "data": {
      "image/png": "[encoded data removed]",
      "text/plain": [
       "<Figure size 864x576 with 1 Axes>"
      ]
     },
     "metadata": {
      "needs_background": "light"
     },
     "output_type": "display_data"
    }
   ],
   "source": [
    "plt.figure(figsize=(12, 8))\n",
    "plt.plot(train_acc, label='train')\n",
    "plt.plot(test_acc, label='test')\n",
    "plt.axvline(np.argmax(test_acc), c='g', ls='--', alpha=0.8)\n",
    "plt.title('Accuracy evolution for different C values')\n",
    "plt.xlabel('C')\n",
    "plt.ylabel('Accuracy')\n",
    "plt.legend()\n",
    "plt.grid()\n",
    "plt.xticks(list(range(len(c_params))), c_params)\n",
    "plt.tight_layout()\n",
    "plt.show()"
   ]
  },
  {
   "cell_type": "markdown",
   "metadata": {},
   "source": [
    "### Predict"
   ]
  },
  {
   "cell_type": "code",
   "execution_count": 722,
   "metadata": {},
   "outputs": [],
   "source": [
    "def predict_review_sentiment(review_index, model):\n",
    "    print('Actual sentiment: {}'.format(df.iloc[review_index]['sentiment_label']))\n",
    "    r = df.iloc[review_index]['reviewText']\n",
    "    print('Prediction: {}'.format(lr.predict(cv.transform([r]))))"
   ]
  },
  {
   "cell_type": "code",
   "execution_count": 723,
   "metadata": {},
   "outputs": [
    {
     "name": "stdout",
     "output_type": "stream",
     "text": [
      "\n",
      "Review no. 61670\n",
      "Actual sentiment: negativo\n",
      "Prediction: ['negativo']\n",
      "\n",
      "Review no. 62870\n",
      "Actual sentiment: positivo\n",
      "Prediction: ['positivo']\n",
      "\n",
      "Review no. 13201\n",
      "Actual sentiment: negativo\n",
      "Prediction: ['negativo']\n",
      "\n",
      "Review no. 69953\n",
      "Actual sentiment: negativo\n",
      "Prediction: ['positivo']\n",
      "\n",
      "Review no. 78543\n",
      "Actual sentiment: negativo\n",
      "Prediction: ['negativo']\n",
      "\n",
      "Review no. 18650\n",
      "Actual sentiment: positivo\n",
      "Prediction: ['positivo']\n",
      "\n",
      "Review no. 102077\n",
      "Actual sentiment: positivo\n",
      "Prediction: ['positivo']\n",
      "\n",
      "Review no. 31083\n",
      "Actual sentiment: positivo\n",
      "Prediction: ['positivo']\n",
      "\n",
      "Review no. 153231\n",
      "Actual sentiment: positivo\n",
      "Prediction: ['positivo']\n",
      "\n",
      "Review no. 118268\n",
      "Actual sentiment: positivo\n",
      "Prediction: ['negativo']\n"
     ]
    }
   ],
   "source": [
    "for i in random.sample(range(0, len(df)), 10):\n",
    "    print('\\nReview no. {}'.format(i))\n",
    "    predict_review_sentiment(i, lr)"
   ]
  },
  {
   "cell_type": "markdown",
   "metadata": {},
   "source": [
    "# Conclusiones:\n",
    "He realizado varias pruebas, y la conclusión es que hay que hacer un balanceo con los review, ya que hay más review positivos que negativos; también tendríamos que eliminar los review de 3, ya que, al no ser ni negativos ni positivos, empeoran el modelo. "
   ]
  },
  {
   "cell_type": "code",
   "execution_count": null,
   "metadata": {},
   "outputs": [],
   "source": []
  }
 ],
 "metadata": {
  "kernelspec": {
   "display_name": "Python 3",
   "language": "python",
   "name": "python3"
  },
  "language_info": {
   "codemirror_mode": {
    "name": "ipython",
    "version": 3
   },
   "file_extension": ".py",
   "mimetype": "text/x-python",
   "name": "python",
   "nbconvert_exporter": "python",
   "pygments_lexer": "ipython3",
   "version": "3.7.6"
  }
 },
 "nbformat": 4,
 "nbformat_minor": 2
}
